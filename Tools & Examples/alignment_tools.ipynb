{
 "cells": [
  {
   "cell_type": "code",
   "execution_count": null,
   "metadata": {},
   "outputs": [],
   "source": [
    "from Bio import pairwise2\n",
    "from Bio.pairwise2 import format_alignment"
   ]
  },
  {
   "cell_type": "code",
   "execution_count": null,
   "metadata": {},
   "outputs": [],
   "source": [
    "def global_alignment(seq1, seq2):\n",
    "    alignments = pairwise2.align.globalxx(seq1, seq2)\n",
    "    for alignment in alignments:\n",
    "        print(format_alignment(*alignment))\n"
   ]
  },
  {
   "cell_type": "code",
   "execution_count": null,
   "metadata": {},
   "outputs": [],
   "source": [
    "if __name__ == \"__main__\":\n",
    "    seq1 = \"ATGCGTACGTAGC\"\n",
    "    seq2 = \"ATGCGTAGCTAGC\"\n",
    "    global_alignment(seq1, seq2)"
   ]
  }
 ],
 "metadata": {
  "language_info": {
   "name": "python"
  }
 },
 "nbformat": 4,
 "nbformat_minor": 2
}
