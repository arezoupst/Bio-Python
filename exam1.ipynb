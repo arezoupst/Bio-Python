{
 "cells": [
  {
   "cell_type": "code",
   "execution_count": 3,
   "metadata": {},
   "outputs": [],
   "source": [
    "from Bio import Entrez\n",
    "Entrez.email = \"arezou.pst@gmail.com\"   # Always tell NCBI who you are\n",
    "handle = Entrez.einfo()\n",
    "result = handle.read()"
   ]
  },
  {
   "cell_type": "markdown",
   "metadata": {},
   "source": [
    "Find all searchable fields"
   ]
  },
  {
   "cell_type": "code",
   "execution_count": 4,
   "metadata": {},
   "outputs": [
    {
     "name": "stdout",
     "output_type": "stream",
     "text": [
      "ALL, All Fields, All terms from all searchable fields\n",
      "UID, UID, Unique number assigned to a gene record\n",
      "FILT, Filter, Limits the records\n",
      "TITL, Gene/Protein Name, gene or protein name\n",
      "WORD, Text Word, Free text associated with record\n",
      "ORGN, Organism, scientific and common names of organism\n",
      "MDAT, Modification Date, The last date on which the record was updated\n",
      "CHR, Chromosome, Chromosome number or numbers; also 'mitochondrial', 'unknown' properties\n",
      "MV, Default Map Location, Chromosomal map location as displayed in MapViewer\n",
      "GENE, Gene Name, Symbol or symbols of the gene\n",
      "ECNO, EC/RN Number, EC number for enzyme or CAS registry number\n",
      "MIM, MIM ID, MIM number from OMIM\n",
      "DIS, Disease/Phenotype, Name(s) of diseases associated with this gene. When available, OMIM name will be used\n",
      "ACCN, Nucleotide/Protein Accession, Nucleotide or protein accession(s) associated with this gene\n",
      "UGEN, UniGene Cluster Number, UniGene cluster number for this gene\n",
      "PROP, Properties, Properties of Gene record\n",
      "CDAT, Creation Date, The date on which this record first appeared\n",
      "NCAC, Nucleotide Accession, nucleotide accessions of sequences\n",
      "NUID, Nucleotide UID, nucleotide uids of sequences\n",
      "PACC, Protein Accession, protein accessions\n",
      "PUID, Protein UID, protein uids\n",
      "PMID, PubMed ID, PubMed ids of accessions linked to the record\n",
      "TID, Taxonomy ID, taxonomy id\n",
      "GO, Gene Ontology, Gene Ontology\n",
      "DOM, Domain Name, Domain Name\n",
      "DDAT, Date Discontinued, The date on which the record was discontinued\n",
      "CPOS, Base Position, Chromosome base position\n",
      "GFN, Gene Full Name, Gene full name\n",
      "PFN, Protein Full Name, Protein full name\n",
      "GL, Gene Length, Gene length\n",
      "XC, Exon Count, Exon count\n",
      "GRP, Group, Relationships for this gene\n",
      "PREF, Preferred Symbol, Preferred symbol of the gene\n",
      "AACC, Assembly Accession, Assembly accession\n",
      "ASM, Assembly Name, Assembly name\n",
      "EXPR, Expression/Tissues, Gene expression\n"
     ]
    }
   ],
   "source": [
    "Entrez.email = \"arezou.pst@gmail.com\" \n",
    "handle = Entrez.einfo(db = \"gene\") #gene entrez\n",
    "record_nuc = Entrez.read(handle)\n",
    "\n",
    "for field in record_nuc[\"DbInfo\"][\"FieldList\"]:\n",
    "    print (\"%(Name)s, %(FullName)s, %(Description)s\" % field)"
   ]
  },
  {
   "cell_type": "markdown",
   "metadata": {},
   "source": [
    "Searching the Entrez databases"
   ]
  },
  {
   "cell_type": "code",
   "execution_count": 6,
   "metadata": {},
   "outputs": [
    {
     "name": "stdout",
     "output_type": "stream",
     "text": [
      "['NP_001080451.1', 'NP_001306835.1', 'XP_029117484.1', 'NP_001299379.1', 'NP_001301091.1', 'XP_002522194.1', 'NP_001310669.1', 'NP_990849.1', 'XP_004493592.1', 'NP_001265886.1', 'NP_001266023.1', 'XP_012571874.1', 'NP_001312615.1', 'NP_001313980.1', 'NP_001314623.1', 'NP_001314622.1', 'NP_001314018.1', 'NP_001313979.1', 'NP_001313698.1', 'NP_001313978.1', 'NP_001296055.1', 'NP_001296030.1', 'XP_010465992.1', 'XP_010487801.1', 'NP_001289904.1', 'NP_001289901.1', 'NP_001267747.1', 'XP_012702630.1', 'NP_477091.1', 'NP_511052.1', 'NP_523625.1', 'NP_523800.1', 'NP_524210.1', 'NP_524367.1', 'NP_727048.1', 'NP_731812.1', 'NP_001014725.1', 'NP_001014726.1', 'NP_001262200.1', 'NP_001284915.1', 'NP_001287314.1', 'NP_082411.1', 'XP_012086050.1', 'NP_001295657.1', 'XP_002503091.1', 'NP_001158122.1', 'XP_013838976.1', 'XP_020927845.1', 'NP_001275087.1', 'XP_013686157.1', 'XP_013714446.1', 'NP_001302939.1', 'NP_001303008.1', 'NP_001302489.1', 'NP_001345019.1', 'NP_001276160.2', 'NP_001345025.1', 'XP_025985166.1', 'NP_190236.1', 'NP_001327017.1', 'NP_001317048.1', 'NP_989337.1', 'NP_001304238.1', 'NP_001150248.1', 'NP_001141313.1', 'NP_001141305.1', 'NP_001148651.1', 'NP_001159156.1', 'XP_008672428.1', 'XP_008677313.1', 'XP_008654957.1', 'XP_035820753.1', 'XP_035820754.1', 'XP_035820761.1', 'XP_035820762.1']\n"
     ]
    }
   ],
   "source": [
    "from Bio import Entrez\n",
    "Entrez.email = \"arezou.pst@gmail.com\" # Always tell NCBI who you are \n",
    "file = open(\"actin_id.txt\", \"r\")\n",
    "atId = [at.strip() for at in file.readlines()]\n",
    "print (atId)"
   ]
  },
  {
   "cell_type": "code",
   "execution_count": 7,
   "metadata": {},
   "outputs": [],
   "source": [
    "Entrez.email = \"arezou.pst@gmail.com\" # Always tell NCBI who you are\n",
    "handle = Entrez.esearch(db = \"gene\", term = \" OR \".join(atId), idtype = \"acc\", retmax = 50)\n",
    "record_at = Entrez.read (handle)"
   ]
  },
  {
   "cell_type": "code",
   "execution_count": 8,
   "metadata": {},
   "outputs": [
    {
     "name": "stdout",
     "output_type": "stream",
     "text": [
      "['31521', '72160', '41885', '35526', '37368', '40444', '48632', '823805', '396526', '101509901', '100792119', '394962', '100798052', '107911663', '380143', '733615', '8273907', '100778206', '8244030', '107800553', '101509704', '101260631', '100282267', '100304239', '100273404', '100283878', '107959437', '107959435', '107913713', '107911662', '107911661', '107890338', '100273396', '106757568', '106464742', '106419366', '106418315', '106390277', '106115748', '105645143', '105390177', '105387683', '105038005', '104765739', '104746256', '102577777', '101779009', '101503086']\n"
     ]
    }
   ],
   "source": [
    "print (record_at[\"IdList\"])\n",
    "atAcc = \",\".join(record_at[\"IdList\"]) # convert to string"
   ]
  },
  {
   "cell_type": "markdown",
   "metadata": {},
   "source": [
    "Downloading full records from Entrez"
   ]
  },
  {
   "cell_type": "code",
   "execution_count": 13,
   "metadata": {},
   "outputs": [],
   "source": [
    "Entrez.email = \"arezou.pst@gmail.com\" # Always tell NCBI who you are\n",
    "handle = Entrez.efetch(db = \"gene\", id = \"NP_001080451.1\", rettype = \"fasta\", retmode = \"text\")\n",
    "#we should use term to find mRna\n",
    "data = handle.read()\n",
    "\n",
    "out_handle = open (\"test.fasta\", \"w\")\n",
    "out_handle.write(data)\n",
    "out_handle.close()\n",
    "handle.close()"
   ]
  },
  {
   "cell_type": "code",
   "execution_count": null,
   "metadata": {},
   "outputs": [],
   "source": []
  }
 ],
 "metadata": {
  "kernelspec": {
   "display_name": "Python 3",
   "language": "python",
   "name": "python3"
  },
  "language_info": {
   "codemirror_mode": {
    "name": "ipython",
    "version": 3
   },
   "file_extension": ".py",
   "mimetype": "text/x-python",
   "name": "python",
   "nbconvert_exporter": "python",
   "pygments_lexer": "ipython3",
   "version": "3.7.6"
  }
 },
 "nbformat": 4,
 "nbformat_minor": 4
}
