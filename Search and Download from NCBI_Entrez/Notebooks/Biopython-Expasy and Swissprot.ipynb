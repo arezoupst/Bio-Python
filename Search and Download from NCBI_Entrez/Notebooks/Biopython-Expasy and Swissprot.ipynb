{
 "cells": [
  {
   "cell_type": "code",
   "execution_count": 24,
   "id": "7886898c",
   "metadata": {},
   "outputs": [
    {
     "name": "stdout",
     "output_type": "stream",
     "text": [
      "Q14576\n",
      "ELAV3_HUMAN\n",
      "RecName: Full=ELAV-like protein 3; AltName: Full=Hu-antigen C; Short=HuC; AltName: Full=Paraneoplastic cerebellar degeneration-associated antigen; AltName: Full=Paraneoplastic limbic encephalitis antigen 21;\n",
      "Seq('MVTQILGAMESQVGGGPAGPALPNGPLLGTNGATDDSKTNLIVNYLPQNMTQDE...HKA')\n",
      "Length 367\n",
      "['Alternative splicing', 'Developmental protein', 'Differentiation', 'Neurogenesis', 'Reference proteome', 'Repeat', 'RNA-binding']\n"
     ]
    }
   ],
   "source": [
    "from Bio import ExPASy\n",
    "from Bio import SeqIO\n",
    "\n",
    "with ExPASy.get_sprot_raw(\"Q14576\") as handle:\n",
    "    seq_record = SeqIO.read(handle, \"swiss\")\n",
    "\n",
    "print(seq_record.id)\n",
    "print(seq_record.name)\n",
    "print(seq_record.description)\n",
    "print(repr(seq_record.seq))\n",
    "print(\"Length %i\" % len(seq_record))\n",
    "print(seq_record.annotations[\"keywords\"])"
   ]
  },
  {
   "cell_type": "code",
   "execution_count": 25,
   "id": "c16ce696",
   "metadata": {},
   "outputs": [
    {
     "name": "stdout",
     "output_type": "stream",
     "text": [
      "ID: Q14576\n",
      "Name: ELAV3_HUMAN\n",
      "Description: RecName: Full=ELAV-like protein 3; AltName: Full=Hu-antigen C; Short=HuC; AltName: Full=Paraneoplastic cerebellar degeneration-associated antigen; AltName: Full=Paraneoplastic limbic encephalitis antigen 21;\n",
      "Database cross-references: EMBL:L26405, EMBL:AY036909, EMBL:AC008481, EMBL:BC014144, EMBL:D26158, CCDS:CCDS32912.1, CCDS:CCDS45978.1, RefSeq:NP_001411.2, RefSeq:NP_115657.2, SMR:Q14576, BioGRID:108310, IntAct:Q14576, STRING:9606.ENSP00000352162, BindingDB:Q14576, ChEMBL:CHEMBL4105924, iPTMnet:Q14576, PhosphoSitePlus:Q14576, BioMuta:ELAVL3, DMDM:21264436, jPOST:Q14576, MassIVE:Q14576, MaxQB:Q14576, PaxDb:Q14576, PeptideAtlas:Q14576, PRIDE:Q14576, ProteomicsDB:60054, ProteomicsDB:60055, Antibodypedia:25887, DNASU:1995, Ensembl:ENST00000359227, Ensembl:ENST00000438662, GeneID:1995, KEGG:hsa:1995, UCSC:uc002mrx.2, CTD:1995, DisGeNET:1995, GeneCards:ELAVL3, HGNC:HGNC:3314, HPA:ENSG00000196361, MIM:603458, neXtProt:NX_Q14576, OpenTargets:ENSG00000196361, PharmGKB:PA27742, VEuPathDB:HostDB:ENSG00000196361.9, eggNOG:KOG0145, GeneTree:ENSGT00940000160389, HOGENOM:CLU_026186_2_2_1, InParanoid:Q14576, OMA:SSAGWCI, OrthoDB:614259at2759, PhylomeDB:Q14576, TreeFam:TF313377, PathwayCommons:Q14576, BioGRID-ORCS:1995, ChiTaRS:ELAVL3, GeneWiki:ELAVL3, GenomeRNAi:1995, Pharos:Q14576, PRO:PR:Q14576, Proteomes:UP000005640, RNAct:Q14576, Bgee:ENSG00000196361, ExpressionAtlas:Q14576, Genevisible:Q14576, GO:GO:1990904, GO:GO:0035925, GO:GO:0030154, GO:GO:0007399, CDD:cd12650, CDD:cd12655, Gene3D:3.30.70.330, InterPro:IPR006548, InterPro:IPR034775, InterPro:IPR034915, InterPro:IPR002343, InterPro:IPR012677, InterPro:IPR035979, InterPro:IPR000504, InterPro:IPR003954, Pfam:PF00076, PRINTS:PR00961, SMART:SM00360, SMART:SM00361, SUPFAM:SSF54928, TIGRFAMs:TIGR01661, PROSITE:PS50102\n",
      "Number of features: 15\n",
      "/molecule_type=protein\n",
      "/accessions=['Q14576', 'Q16135', 'Q96CL8', 'Q96QS9']\n",
      "/protein_existence=2\n",
      "/date=15-DEC-1998\n",
      "/sequence_version=3\n",
      "/date_last_sequence_update=27-MAY-2002\n",
      "/date_last_annotation_update=02-JUN-2021\n",
      "/entry_version=177\n",
      "/gene_name=Name=ELAVL3; Synonyms=HUC, PLE21;\n",
      "/organism=Homo sapiens (Human)\n",
      "/taxonomy=['Eukaryota', 'Metazoa', 'Chordata', 'Craniata', 'Vertebrata', 'Euteleostomi', 'Mammalia', 'Eutheria', 'Euarchontoglires', 'Primates', 'Haplorrhini', 'Catarrhini', 'Hominidae', 'Homo']\n",
      "/ncbi_taxid=['9606']\n",
      "/comment=FUNCTION: RNA-binding protein that binds to AU-rich element (ARE) sequences of target mRNAs, including VEGF mRNA (PubMed:10710437). May also bind poly-A tracts via RRM 3 (By similarity). May be involved in neuronal differentiation and maintenance (By similarity). Plays a role in the stabilization of GAP43 mRNA and in spatial learning (By similarity). {ECO:0000250|UniProtKB:Q60900, ECO:0000269|PubMed:10710437}.\n",
      "SUBUNIT: Interacts with MAP1B light chain LC1. {ECO:0000250|UniProtKB:Q60900}.\n",
      "ALTERNATIVE PRODUCTS: Event=Alternative splicing; Named isoforms=2; Name=1;   IsoId=Q14576-1; Sequence=Displayed; Name=2;   IsoId=Q14576-2; Sequence=VSP_005789;\n",
      "TISSUE SPECIFICITY: Brain specific.\n",
      "DOMAIN: RRM 1 and RRM 2 bind cooperatively to AU-rich sequences in target mRNAs. RRM 3 binds to poly-A mRNA sequences (By similarity). {ECO:0000250}.\n",
      "SIMILARITY: Belongs to the RRM elav family. {ECO:0000305}.\n",
      "/references=[Reference(title='', ...), Reference(title='Isolation of HuC cDNA.', ...), Reference(title='The DNA sequence and biology of human chromosome 19.', ...), Reference(title='The status, quality, and expansion of the NIH full-length cDNA project: the Mammalian Gene Collection (MGC).', ...), Reference(title='A hippocampal protein associated with paraneoplastic neurologic syndrome and small cell lung carcinoma.', ...), Reference(title=\"RNA-binding analyses of HuC and HuD with the VEGF and c-myc 3'-untranslated regions using a novel ELISA-based assay.\", ...)]\n",
      "/keywords=['Alternative splicing', 'Developmental protein', 'Differentiation', 'Neurogenesis', 'Reference proteome', 'Repeat', 'RNA-binding']\n",
      "Seq('MVTQILGAMESQVGGGPAGPALPNGPLLGTNGATDDSKTNLIVNYLPQNMTQDE...HKA')\n"
     ]
    }
   ],
   "source": [
    "print (seq_record)"
   ]
  },
  {
   "cell_type": "code",
   "execution_count": null,
   "id": "7bfe9198",
   "metadata": {},
   "outputs": [],
   "source": [
    "seq_record.features"
   ]
  },
  {
   "cell_type": "code",
   "execution_count": null,
   "id": "35cb2e2f",
   "metadata": {},
   "outputs": [],
   "source": [
    "print (seq_record.seq)"
   ]
  },
  {
   "cell_type": "code",
   "execution_count": null,
   "id": "4a1cabc5",
   "metadata": {},
   "outputs": [],
   "source": [
    "print (seq_record.dbxrefs)"
   ]
  },
  {
   "cell_type": "markdown",
   "id": "9c1cc023",
   "metadata": {},
   "source": [
    "with 4 accession numbers we have:"
   ]
  },
  {
   "cell_type": "code",
   "execution_count": 3,
   "id": "c54a8ace",
   "metadata": {},
   "outputs": [],
   "source": [
    "from Bio import ExPASy\n",
    "from Bio import SwissProt\n",
    "\n",
    "accessions = [\"Q15717\", \"Q12926\", \"Q14576\",\"P26378\"]\n",
    "records = []\n",
    "records_seq=[]\n",
    "for accession in accessions: #more than one acc number\n",
    "    handle = ExPASy.get_sprot_raw(accession)\n",
    "    record = SwissProt.read(handle)\n",
    "    records.append(record)\n",
    "    records_seq.append(record.sequence)\n"
   ]
  },
  {
   "cell_type": "code",
   "execution_count": 4,
   "id": "59a826df",
   "metadata": {},
   "outputs": [],
   "source": [
    "with open(\"myEvalRecord.fasta\", \"w\") as out_handle:\n",
    "    for i in range(0,len(records_seq)):\n",
    "        out_handle.write(records_seq[i]+'\\t')"
   ]
  },
  {
   "cell_type": "code",
   "execution_count": 5,
   "id": "96d7b440",
   "metadata": {},
   "outputs": [
    {
     "data": {
      "text/plain": [
       "'MSNGYEDHMAEDCRGDIGRTNLIVNYLPQNMTQDELRSLFSSIGEVESAKLIRDKVAGHSLGYGFVNYVTAKDAERAINTLNGLRLQSKTIKVSYARPSSEVIKDANLYISGLPRTMTQKDVEDMFSRFGRIINSRVLVDQTTGLSRGVAFIRFDKRSEAEEAITSFNGHKPPGSSEPITVKFAANPNQNKNVALLSQLYHSPARRFGGPVHHQAQRFRFSPMGVDHMSGLSGVNVPGNASSGWCIFIYNLGQDADEGILWQMFGPFGAVTNVKVIRDFNTNKCKGFGFVTMTNYEEAAMAIASLNGYRLGDKILQVSFKTNKSHK'"
      ]
     },
     "execution_count": 5,
     "metadata": {},
     "output_type": "execute_result"
    }
   ],
   "source": [
    "records_seq[0]"
   ]
  },
  {
   "cell_type": "code",
   "execution_count": 6,
   "id": "05dcea69",
   "metadata": {},
   "outputs": [
    {
     "data": {
      "text/plain": [
       "['MSNGYEDHMAEDCRGDIGRTNLIVNYLPQNMTQDELRSLFSSIGEVESAKLIRDKVAGHSLGYGFVNYVTAKDAERAINTLNGLRLQSKTIKVSYARPSSEVIKDANLYISGLPRTMTQKDVEDMFSRFGRIINSRVLVDQTTGLSRGVAFIRFDKRSEAEEAITSFNGHKPPGSSEPITVKFAANPNQNKNVALLSQLYHSPARRFGGPVHHQAQRFRFSPMGVDHMSGLSGVNVPGNASSGWCIFIYNLGQDADEGILWQMFGPFGAVTNVKVIRDFNTNKCKGFGFVTMTNYEEAAMAIASLNGYRLGDKILQVSFKTNKSHK',\n",
       " 'METQLSNGPTCNNTANGPTTINNNCSSPVDSGNTEDSKTNLIVNYLPQNMTQEELKSLFGSIGEIESCKLVRDKITGQSLGYGFVNYIDPKDAEKAINTLNGLRLQTKTIKVSYARPSSASIRDANLYVSGLPKTMTQKELEQLFSQYGRIITSRILVDQVTGISRGVGFIRFDKRIEAEEAIKGLNGQKPPGATEPITVKFANNPSQKTNQAILSQLYQSPNRRYPGPLAQQAQRFRLDNLLNMAYGVKRFSPMTIDGMTSLAGINIPGHPGTGWCIFVYNLAPDADESILWQMFGPFGAVTNVKVIRDFNTNKCKGFGFVTMTNYDEAAMAIASLNGYRLGDRVLQVSFKTNKTHKA',\n",
       " 'MVTQILGAMESQVGGGPAGPALPNGPLLGTNGATDDSKTNLIVNYLPQNMTQDEFKSLFGSIGDIESCKLVRDKITGQSLGYGFVNYSDPNDADKAINTLNGLKLQTKTIKVSYARPSSASIRDANLYVSGLPKTMSQKEMEQLFSQYGRIITSRILVDQVTGVSRGVGFIRFDKRIEAEEAIKGLNGQKPLGAAEPITVKFANNPSQKTGQALLTHLYQSSARRYAGPLHHQTQRFRLDNLLNMAYGVKSPLSLIARFSPIAIDGMSGLAGVGLSGGAAGAGWCIFVYNLSPEADESVLWQLFGPFGAVTNVKVIRDFTTNKCKGFGFVTMTNYDEAAMAIASLNGYRLGERVLQVSFKTSKQHKA',\n",
       " 'MEWNGLKMIISTMEPQVSNGPTSNTSNGPSSNNRNCPSPMQTGATTDDSKTNLIVNYLPQNMTQEEFRSLFGSIGEIESCKLVRDKITGQSLGYGFVNYIDPKDAEKAINTLNGLRLQTKTIKVSYARPSSASIRDANLYVSGLPKTMTQKELEQLFSQYGRIITSRILVDQVTGVSRGVGFIRFDKRIEAEEAIKGLNGQKPSGATEPITVKFANNPSQKSSQALLSQLYQSPNRRYPGPLHHQAQRFRLDNLLNMAYGVKRLMSGPVPPSACPPRFSPITIDGMTSLVGMNIPGHTGTGWCIFVYNLSPDSDESVLWQLFGPFGAVNNVKVIRDFNTNKCKGFGFVTMTNYDEAAMAIASLNGYRLGDRVLQVSFKTNKAHKS']"
      ]
     },
     "execution_count": 6,
     "metadata": {},
     "output_type": "execute_result"
    }
   ],
   "source": [
    "records_seq"
   ]
  },
  {
   "cell_type": "code",
   "execution_count": 12,
   "id": "c74ad2cf",
   "metadata": {},
   "outputs": [
    {
     "data": {
      "text/plain": [
       "['P26378',\n",
       " 'B1APY6',\n",
       " 'B1APY7',\n",
       " 'B1APY8',\n",
       " 'B7Z4G7',\n",
       " 'Q8IYD4',\n",
       " 'Q96J74',\n",
       " 'Q96J75',\n",
       " 'Q9UD24']"
      ]
     },
     "execution_count": 12,
     "metadata": {},
     "output_type": "execute_result"
    }
   ],
   "source": [
    "record.accessions"
   ]
  },
  {
   "cell_type": "code",
   "execution_count": 17,
   "id": "a2985d78",
   "metadata": {},
   "outputs": [
    {
     "data": {
      "text/plain": [
       "Bio.SwissProt.Record"
      ]
     },
     "execution_count": 17,
     "metadata": {},
     "output_type": "execute_result"
    }
   ],
   "source": [
    "type(record)"
   ]
  },
  {
   "cell_type": "code",
   "execution_count": 22,
   "id": "1294d4cb",
   "metadata": {},
   "outputs": [
    {
     "data": {
      "text/plain": [
       "'Homo sapiens (Human).'"
      ]
     },
     "execution_count": 22,
     "metadata": {},
     "output_type": "execute_result"
    }
   ],
   "source": [
    "record.organism"
   ]
  },
  {
   "cell_type": "code",
   "execution_count": null,
   "id": "df0e7c6b",
   "metadata": {},
   "outputs": [],
   "source": []
  }
 ],
 "metadata": {
  "kernelspec": {
   "display_name": "Python 3",
   "language": "python",
   "name": "python3"
  },
  "language_info": {
   "codemirror_mode": {
    "name": "ipython",
    "version": 3
   },
   "file_extension": ".py",
   "mimetype": "text/x-python",
   "name": "python",
   "nbconvert_exporter": "python",
   "pygments_lexer": "ipython3",
   "version": "3.8.2"
  }
 },
 "nbformat": 4,
 "nbformat_minor": 5
}
