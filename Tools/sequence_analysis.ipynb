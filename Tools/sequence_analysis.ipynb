{
 "cells": [
  {
   "cell_type": "code",
   "execution_count": null,
   "metadata": {},
   "outputs": [],
   "source": [
    "# Sequence Analysis with Biopython\n",
    "from Bio.Seq import Seq"
   ]
  },
  {
   "cell_type": "code",
   "execution_count": null,
   "metadata": {},
   "outputs": [],
   "source": [
    "# Create a DNA sequence\n",
    "sequence = Seq(\"ATGCGTACGTAGC\")\n",
    "print(\"Original Sequence:\", sequence)"
   ]
  },
  {
   "cell_type": "code",
   "execution_count": null,
   "metadata": {},
   "outputs": [],
   "source": [
    "# Reverse complement\n",
    "reverse_complement = sequence.reverse_complement()\n",
    "print(\"Reverse Complement:\", reverse_complement)"
   ]
  },
  {
   "cell_type": "code",
   "execution_count": null,
   "metadata": {},
   "outputs": [],
   "source": [
    "# Transcription\n",
    "rna_seq = sequence.transcribe()\n",
    "print(\"Transcribed (RNA):\", rna_seq)"
   ]
  },
  {
   "cell_type": "code",
   "execution_count": null,
   "metadata": {},
   "outputs": [],
   "source": [
    "# Translation\n",
    "protein_seq = sequence.translate()\n",
    "print(\"Translated (Protein):\", protein_seq)"
   ]
  }
 ],
 "metadata": {
  "language_info": {
   "name": "python"
  }
 },
 "nbformat": 4,
 "nbformat_minor": 2
}
