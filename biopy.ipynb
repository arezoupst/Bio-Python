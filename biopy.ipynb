{
 "cells": [
  {
   "cell_type": "code",
   "execution_count": 1,
   "metadata": {},
   "outputs": [],
   "source": [
    "from Bio import Entrez\n",
    "\n",
    "Entrez.email = \"arezou.pst@gmail.com\"   # Always tell NCBI who you are"
   ]
  },
  {
   "cell_type": "code",
   "execution_count": 2,
   "metadata": {},
   "outputs": [
    {
     "name": "stdout",
     "output_type": "stream",
     "text": [
      "['AT1G70090', 'AT1G02720', 'AT1G24170', 'AT1G19300', 'AT1G18580', 'AT1G13250', 'AT1G06780', 'AT5G54690', 'AT5G47780', 'AT5G15470', 'AT4G38270', 'AT4G02130', 'AT3G62660', 'AT3G61130', 'AT3G58790', 'AT3G50760', 'AT3G28340', 'AT3G25140', 'AT3G01040', 'AT3G02350', 'AT3G06260', 'AT2G46480', 'AT2G38650', 'AT2G30575', 'AT2G20810']\n"
     ]
    }
   ],
   "source": [
    "#open file and make a list of IDs\n",
    "file = open(\"at_id.txt\", \"r\")\n",
    "atId = [at.strip() for at in file.readlines()]\n",
    "print (atId)"
   ]
  },
  {
   "cell_type": "code",
   "execution_count": 3,
   "metadata": {},
   "outputs": [],
   "source": [
    "#search in database\n",
    "from Bio import Entrez\n",
    "\n",
    "Entrez.email = \"arezou.pst@gmail.com\" # Always tell NCBI who you are\n",
    "handle = Entrez.esearch(db = \"gene\", term = \" OR \".join(atId), idtype = \"acc\", retmax = 50)\n",
    "record_at = Entrez.read (handle)"
   ]
  },
  {
   "cell_type": "code",
   "execution_count": 4,
   "metadata": {},
   "outputs": [
    {
     "name": "stdout",
     "output_type": "stream",
     "text": [
      "['822105', '838512', '816611', '818447', '839475', '825285', '838439', '829984', '831400', '834829', '819800', '835558', '821312', '824240', '820474', '822462', '843345', '837885', '825440', '817607', '837189', '827438', '839030', '819257', '825048', '5007847', '5008093', '109814391', '17893439', '17891061']\n"
     ]
    }
   ],
   "source": [
    "#print the results\n",
    "print (record_at[\"IdList\"])\n",
    "atAcc = \",\".join(record_at[\"IdList\"]) # convert to string"
   ]
  },
  {
   "cell_type": "code",
   "execution_count": null,
   "metadata": {},
   "outputs": [],
   "source": []
  }
 ],
 "metadata": {
  "kernelspec": {
   "display_name": "Python 3",
   "language": "python",
   "name": "python3"
  },
  "language_info": {
   "codemirror_mode": {
    "name": "ipython",
    "version": 3
   },
   "file_extension": ".py",
   "mimetype": "text/x-python",
   "name": "python",
   "nbconvert_exporter": "python",
   "pygments_lexer": "ipython3",
   "version": "3.7.6"
  }
 },
 "nbformat": 4,
 "nbformat_minor": 4
}
