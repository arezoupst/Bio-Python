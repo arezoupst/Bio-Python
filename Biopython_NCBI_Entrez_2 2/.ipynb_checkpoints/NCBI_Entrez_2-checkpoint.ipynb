{
 "cells": [
  {
   "cell_type": "code",
   "execution_count": null,
   "metadata": {},
   "outputs": [],
   "source": [
    "from Bio import Entrez\n",
    "\n",
    "Entrez.email = \"\"\n",
    "handle = Entrez.esearch (db = \"nucleotide\", term = \"ubx [gene]\", idtype = \"acc\")\n",
    "records = Entrez.read (handle)\n",
    "\n",
    "print (records[\"Count\"])"
   ]
  },
  {
   "cell_type": "code",
   "execution_count": null,
   "metadata": {},
   "outputs": [],
   "source": [
    "from Bio import Entrez\n",
    "\n",
    "Entrez.email = \"\"\n",
    "handle = Entrez.esearch (db = \"nucleotide\", term = \"ubx [gene]\", retmax = 2000, idtype = \"acc\")\n",
    "records = Entrez.read (handle)\n",
    "\n",
    "print (records[\"Count\"])"
   ]
  },
  {
   "cell_type": "code",
   "execution_count": null,
   "metadata": {},
   "outputs": [],
   "source": [
    "idList = records[\"IdList\"]\n",
    "print (idList)"
   ]
  },
  {
   "cell_type": "markdown",
   "metadata": {},
   "source": [
    "# Error !!"
   ]
  },
  {
   "cell_type": "code",
   "execution_count": null,
   "metadata": {},
   "outputs": [],
   "source": [
    "handle = Entrez.efetch (db = \"nucleotide\", id = \",\". join(idList), rettype = \"fasta\", retmode = \"text\")\n",
    "data = handle.read()\n",
    "\n",
    "out_handle = open (\"ubx_all.fasta\", \"w\")\n",
    "out_handle.write(data)\n",
    "out_handle.close()\n",
    "handle.close()"
   ]
  },
  {
   "cell_type": "markdown",
   "metadata": {},
   "source": [
    "# Correcting search term"
   ]
  },
  {
   "cell_type": "code",
   "execution_count": null,
   "metadata": {},
   "outputs": [],
   "source": [
    "from Bio import Entrez\n",
    "\n",
    "Entrez.email = \"\"\n",
    "handle = Entrez.esearch (db = \"nucleotide\", term = \"ubx [gene] AND ubx[titl]\", retmax = 2000, idtype = \"acc\")\n",
    "records = Entrez.read (handle)\n",
    "\n",
    "print (records[\"Count\"])\n",
    "idList = records[\"IdList\"]\n",
    "\n",
    "handle = Entrez.efetch (db = \"nucleotide\", id = \",\". join(idList), rettype = \"fasta\", retmode = \"text\")\n",
    "data = handle.read()\n",
    "\n",
    "out_handle = open (\"ubx_all.fasta\", \"w\")\n",
    "out_handle.write(data)\n",
    "out_handle.close()\n",
    "handle.close()"
   ]
  },
  {
   "cell_type": "markdown",
   "metadata": {},
   "source": [
    "# Searching for and downloading sequences using the history"
   ]
  },
  {
   "cell_type": "code",
   "execution_count": null,
   "metadata": {},
   "outputs": [],
   "source": [
    "from Bio import Entrez\n",
    "\n",
    "Entrez.email = \"\"\n",
    "handle = Entrez.esearch (db = \"nucleotide\", term = \"ubx [GENE] AND ubx[TITL]\", usehistory = \"y\", idtype = \"acc\")\n",
    "records_ubx = Entrez.read (handle)\n",
    "\n",
    "print (records_ubx[\"Count\"])"
   ]
  },
  {
   "cell_type": "code",
   "execution_count": null,
   "metadata": {},
   "outputs": [],
   "source": [
    "out_handle = open (\"ubx_all_records.fasta\", \"w\")\n",
    "batch_size = 100\n",
    "count = int (records_ubx[\"Count\"])\n",
    "\n",
    "for start in range(0, count, batch_size):\n",
    "    end = min (count, start + batch_size)\n",
    "    print(\"Going to download record %i to %i\" % (start + 1, end))\n",
    "    handle = Entrez.efetch (db = \"nucleotide\", \n",
    "                            retstart = start, \n",
    "                            query_key = records_ubx[\"QueryKey\"], \n",
    "                            webenv = records_ubx[\"WebEnv\"], \n",
    "                            retmax = batch_size,\n",
    "                            rettype = \"fasta\", \n",
    "                            retmode = \"text\")\n",
    "    \n",
    "    ubx_genes = handle.read()\n",
    "    out_handle.write (ubx_genes)\n",
    "    handle.close()\n",
    "    \n",
    "out_handle.close()"
   ]
  },
  {
   "cell_type": "markdown",
   "metadata": {},
   "source": [
    "# Exercise 4: Retrieving large datasets\n",
    "Download all chimpanzee mRNA sequences in FASTA format (>50,000 sequences)\n",
    "\n",
    "![Thoughtful Chimpanzee](chimp.jpg)"
   ]
  }
 ],
 "metadata": {
  "kernelspec": {
   "display_name": "Python 3",
   "language": "python",
   "name": "python3"
  },
  "language_info": {
   "codemirror_mode": {
    "name": "ipython",
    "version": 3
   },
   "file_extension": ".py",
   "mimetype": "text/x-python",
   "name": "python",
   "nbconvert_exporter": "python",
   "pygments_lexer": "ipython3",
   "version": "3.8.5"
  }
 },
 "nbformat": 4,
 "nbformat_minor": 4
}
