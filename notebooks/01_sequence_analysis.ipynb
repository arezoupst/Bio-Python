{
 "cells": [
  {
   "cell_type": "markdown",
   "metadata": {},
   "source": [
    "# Simple Sequence Analysis\n",
    "\n",
    "Basic sequence analysis using Biopython"
   ]
  },
  {
   "cell_type": "code",
   "execution_count": null,
   "metadata": {},
   "outputs": [],
   "source": [
    "from Bio.Seq import Seq\n",
    "from Bio.SeqUtils import GC\n",
    "import matplotlib.pyplot as plt\n",
    "\n",
    "# Create a simple DNA sequence\n",
    "dna_sequence = \"ATGCGTACGTAGCGTACGTAGCGTACGTAGCGTACGTAGCGTACGTAGCGTACGTAGC\"\n",
    "print(f\"Original DNA: {dna_sequence}\")\n",
    "print(f\"Length: {len(dna_sequence)} bp\")"
   ]
  }
 ],
 "metadata": {
  "kernelspec": {
   "display_name": "Python 3",
   "language": "python",
   "name": "python3"
  }
 },
 "nbformat": 4,
 "nbformat_minor": 4
}
