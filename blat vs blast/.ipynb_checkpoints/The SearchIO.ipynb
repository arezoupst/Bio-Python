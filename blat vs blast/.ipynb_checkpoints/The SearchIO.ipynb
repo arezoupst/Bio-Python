{
 "cells": [
  {
   "cell_type": "markdown",
   "metadata": {},
   "source": [
    "# The SearchIO object model"
   ]
  },
  {
   "cell_type": "markdown",
   "metadata": {},
   "source": [
    "SearchIO parses a search output file’s contents into a hierarchy of four nested objects: QueryResult, Hit, HSP, and HSPFragment. Each of them models a part of the search output file:\n",
    "\n",
    "* **QueryResult** represents a search query. This is the main object returned by the input functions and it contains all other objects.\n",
    "\n",
    "* **Hit represents** a database hit,\n",
    "\n",
    "* **HSP** represents high-scoring alignment region(s) in the hit,\n",
    "\n",
    "* **HSPFragment** represents a contiguous alignment within the HSP"
   ]
  },
  {
   "cell_type": "markdown",
   "metadata": {},
   "source": [
    "# HSPFragment"
   ]
  },
  {
   "cell_type": "code",
   "execution_count": 1,
   "metadata": {},
   "outputs": [
    {
     "name": "stdout",
     "output_type": "stream",
     "text": [
      "      Query: ABL1_a MLEICLKLVGCKSKKGLSSSSSCYLEEALQRPVASDFEPQGLSE\n",
      "        Hit: gi|568815589|ref|NC_000009.12| Homo sapiens chromosome 9, GRCh38...\n",
      "Query range: [514:1086] (0)\n",
      "  Hit range: [130883964:130885680] (1)\n",
      "  Fragments: 1 (572 columns)\n",
      "     Query - SDPLDHEPAVSPLLPRKERGPPEGGLNEDERLLPKDKKTNLFSALIXXXXXXXXXXXXR~~~DIVQR\n",
      "             SDPLDHEPAVSPLLPRKERGPPEGGLNEDERLLPKDKKTNLFSALIKKKKKTAPTPPKR~~~DIVQR\n",
      "       Hit - SDPLDHEPAVSPLLPRKERGPPEGGLNEDERLLPKDKKTNLFSALIKKKKKTAPTPPKR~~~DIVQR\n"
     ]
    }
   ],
   "source": [
    "from Bio import SearchIO\n",
    "\n",
    "blast_qresult = SearchIO.read(\"my_blast.xml\", \"blast-xml\")\n",
    "blast_frag = blast_qresult[0][0][0] # first hit, first hsp, first fragment\n",
    "print(blast_frag)"
   ]
  },
  {
   "cell_type": "code",
   "execution_count": null,
   "metadata": {},
   "outputs": [],
   "source": [
    "blat_qresult = SearchIO.read(\"my_blat.psl\", \"blat-psl\")\n",
    "blat_frag = blat_qresult[0][0][0] # first hit, first hsp, first fragment\n",
    "print(blat_frag)"
   ]
  },
  {
   "cell_type": "code",
   "execution_count": null,
   "metadata": {},
   "outputs": [],
   "source": [
    "blat_qresult = SearchIO.read(\"my_blat.psl\", \"blat-psl\")\n",
    "blat_hsp = blat_qresult[0][1] # first hit, second hsp\n",
    "\n",
    "for frag in blat_hsp:\n",
    "    print (frag)"
   ]
  },
  {
   "cell_type": "markdown",
   "metadata": {},
   "source": [
    "# Exercise 1:\n",
    "\n",
    "* Retrieve the first 5 entries having search term \"starch AND Malus Domestica [Organism]\" and store them in a fasta file. \n",
    "* Write a python function that aligns the sequences in the fasta file against the NCBI nr database limiting the hits to the Malus Domestica organism and prints to screen the following info for each hsp:\n",
    "\n",
    "    * The title;\n",
    "\n",
    "    * Score and e-value;\n",
    "\n",
    "    * The number of identities and positives and the alignment length."
   ]
  },
  {
   "cell_type": "markdown",
   "metadata": {},
   "source": [
    "# Exercise 2:\n",
    "\n",
    "* Write a python function that reads all the entries of a blast file in .xml format and outputs all the hits having at least one HSP with bitscore > B, alignment length > A and minimum percentage of identity > I, where B, A and I are input thresholds. \n",
    "\n",
    "* Test the function with an appropriate data."
   ]
  },
  {
   "cell_type": "code",
   "execution_count": null,
   "metadata": {},
   "outputs": [],
   "source": []
  }
 ],
 "metadata": {
  "kernelspec": {
   "display_name": "Python 3",
   "language": "python",
   "name": "python3"
  },
  "language_info": {
   "codemirror_mode": {
    "name": "ipython",
    "version": 3
   },
   "file_extension": ".py",
   "mimetype": "text/x-python",
   "name": "python",
   "nbconvert_exporter": "python",
   "pygments_lexer": "ipython3",
   "version": "3.8.5"
  }
 },
 "nbformat": 4,
 "nbformat_minor": 4
}
