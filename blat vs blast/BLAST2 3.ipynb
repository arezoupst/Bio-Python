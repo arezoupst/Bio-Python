{
 "cells": [
  {
   "cell_type": "markdown",
   "metadata": {},
   "source": [
    "# The SearchIO object model"
   ]
  },
  {
   "cell_type": "markdown",
   "metadata": {},
   "source": [
    "SearchIO parses a search output file’s contents into a hierarchy of four nested objects: QueryResult, Hit, HSP, and HSPFragment. Each of them models a part of the search output file:\n",
    "\n",
    "* **QueryResult** represents a search query. This is the main object returned by the input functions and it contains all other objects.\n",
    "\n",
    "* **Hit represents** a database hit,\n",
    "\n",
    "* **HSP** represents high-scoring alignment region(s) in the hit,\n",
    "\n",
    "* **HSPFragment** represents a contiguous alignment within the HSP"
   ]
  },
  {
   "cell_type": "markdown",
   "metadata": {},
   "source": [
    "# HSPFragment"
   ]
  },
  {
   "cell_type": "code",
   "execution_count": 1,
   "metadata": {},
   "outputs": [
    {
     "name": "stdout",
     "output_type": "stream",
     "text": [
      "      Query: ABL1_a MLEICLKLVGCKSKKGLSSSSSCYLEEALQRPVASDFEPQGLSE\n",
      "        Hit: gi|568815589|ref|NC_000009.12| Homo sapiens chromosome 9, GRCh38...\n",
      "Query range: [514:1086] (0)\n",
      "  Hit range: [130883964:130885680] (1)\n",
      "  Fragments: 1 (572 columns)\n",
      "     Query - SDPLDHEPAVSPLLPRKERGPPEGGLNEDERLLPKDKKTNLFSALIXXXXXXXXXXXXR~~~DIVQR\n",
      "             SDPLDHEPAVSPLLPRKERGPPEGGLNEDERLLPKDKKTNLFSALIKKKKKTAPTPPKR~~~DIVQR\n",
      "       Hit - SDPLDHEPAVSPLLPRKERGPPEGGLNEDERLLPKDKKTNLFSALIKKKKKTAPTPPKR~~~DIVQR\n"
     ]
    }
   ],
   "source": [
    "from Bio import SearchIO\n",
    "\n",
    "blast_qresult = SearchIO.read(\"my_blast.xml\", \"blast-xml\")\n",
    "blast_frag = blast_qresult[0][0][0] # first hit, first hsp, first fragment\n",
    "print(blast_frag)"
   ]
  },
  {
   "cell_type": "code",
   "execution_count": null,
   "metadata": {},
   "outputs": [],
   "source": [
    "blat_qresult = SearchIO.read(\"my_blat.psl\", \"blat-psl\")\n",
    "blat_frag = blat_qresult[0][0][0] # first hit, first hsp, first fragment\n",
    "print(blat_frag)"
   ]
  },
  {
   "cell_type": "code",
   "execution_count": 1,
   "metadata": {},
   "outputs": [
    {
     "name": "stdout",
     "output_type": "stream",
     "text": [
      "      Query: ABL1_a MLEICLKLVGCKSKKGLSSSSSCYLEEALQRPVASDFEPQGLSE\n",
      "        Hit: gi|568815589|ref|NC_000009.12| Homo sapiens chromosome 9, GRCh38...\n",
      "Query range: [514:1086] (0)\n",
      "  Hit range: [130883964:130885680] (1)\n",
      "Quick stats: evalue 0; bitscore 984.56\n",
      "  Fragments: 1 (572 columns)\n",
      "     Query - SDPLDHEPAVSPLLPRKERGPPEGGLNEDERLLPKDKKTNLFSALIXXXXXXXXXXXXR~~~DIVQR\n",
      "             SDPLDHEPAVSPLLPRKERGPPEGGLNEDERLLPKDKKTNLFSALIKKKKKTAPTPPKR~~~DIVQR\n",
      "       Hit - SDPLDHEPAVSPLLPRKERGPPEGGLNEDERLLPKDKKTNLFSALIKKKKKTAPTPPKR~~~DIVQR\n"
     ]
    }
   ],
   "source": [
    "from Bio import SearchIO\n",
    "\n",
    "blast_qresult = SearchIO.read(\"my_blast.xml\", \"blast-xml\")\n",
    "blast_hsp = blast_qresult[0][0] # first hit, first hsp\n",
    "print(blast_hsp)"
   ]
  },
  {
   "cell_type": "code",
   "execution_count": 1,
   "metadata": {},
   "outputs": [
    {
     "ename": "ValueError",
     "evalue": "No query results found in handle",
     "output_type": "error",
     "traceback": [
      "\u001b[0;31m---------------------------------------------------------------------------\u001b[0m",
      "\u001b[0;31mValueError\u001b[0m                                Traceback (most recent call last)",
      "\u001b[0;32m<ipython-input-1-7b1bfa68aa01>\u001b[0m in \u001b[0;36m<module>\u001b[0;34m\u001b[0m\n\u001b[1;32m      1\u001b[0m \u001b[0;32mfrom\u001b[0m \u001b[0mBio\u001b[0m \u001b[0;32mimport\u001b[0m \u001b[0mSearchIO\u001b[0m\u001b[0;34m\u001b[0m\u001b[0;34m\u001b[0m\u001b[0m\n\u001b[1;32m      2\u001b[0m \u001b[0;34m\u001b[0m\u001b[0m\n\u001b[0;32m----> 3\u001b[0;31m \u001b[0mblat_qresult\u001b[0m \u001b[0;34m=\u001b[0m \u001b[0mSearchIO\u001b[0m\u001b[0;34m.\u001b[0m\u001b[0mread\u001b[0m\u001b[0;34m(\u001b[0m\u001b[0;34m\"blat.psl\"\u001b[0m\u001b[0;34m,\u001b[0m \u001b[0;34m\"blat-psl\"\u001b[0m\u001b[0;34m)\u001b[0m\u001b[0;34m\u001b[0m\u001b[0;34m\u001b[0m\u001b[0m\n\u001b[0m\u001b[1;32m      4\u001b[0m \u001b[0mblat_hsp\u001b[0m \u001b[0;34m=\u001b[0m \u001b[0mblat_qresult\u001b[0m\u001b[0;34m[\u001b[0m\u001b[0;36m0\u001b[0m\u001b[0;34m]\u001b[0m\u001b[0;34m[\u001b[0m\u001b[0;36m0\u001b[0m\u001b[0;34m]\u001b[0m \u001b[0;31m# first hit, first hsp\u001b[0m\u001b[0;34m\u001b[0m\u001b[0;34m\u001b[0m\u001b[0m\n\u001b[1;32m      5\u001b[0m \u001b[0mprint\u001b[0m\u001b[0;34m(\u001b[0m\u001b[0mblat_hsp\u001b[0m\u001b[0;34m)\u001b[0m\u001b[0;34m\u001b[0m\u001b[0;34m\u001b[0m\u001b[0m\n",
      "\u001b[0;32m~/opt/anaconda3/lib/python3.8/site-packages/Bio/SearchIO/__init__.py\u001b[0m in \u001b[0;36mread\u001b[0;34m(handle, format, **kwargs)\u001b[0m\n\u001b[1;32m    348\u001b[0m         \u001b[0mquery_result\u001b[0m \u001b[0;34m=\u001b[0m \u001b[0mnext\u001b[0m\u001b[0;34m(\u001b[0m\u001b[0mquery_results\u001b[0m\u001b[0;34m)\u001b[0m\u001b[0;34m\u001b[0m\u001b[0;34m\u001b[0m\u001b[0m\n\u001b[1;32m    349\u001b[0m     \u001b[0;32mexcept\u001b[0m \u001b[0mStopIteration\u001b[0m\u001b[0;34m:\u001b[0m\u001b[0;34m\u001b[0m\u001b[0;34m\u001b[0m\u001b[0m\n\u001b[0;32m--> 350\u001b[0;31m         \u001b[0;32mraise\u001b[0m \u001b[0mValueError\u001b[0m\u001b[0;34m(\u001b[0m\u001b[0;34m\"No query results found in handle\"\u001b[0m\u001b[0;34m)\u001b[0m \u001b[0;32mfrom\u001b[0m \u001b[0;32mNone\u001b[0m\u001b[0;34m\u001b[0m\u001b[0;34m\u001b[0m\u001b[0m\n\u001b[0m\u001b[1;32m    351\u001b[0m     \u001b[0;32mtry\u001b[0m\u001b[0;34m:\u001b[0m\u001b[0;34m\u001b[0m\u001b[0;34m\u001b[0m\u001b[0m\n\u001b[1;32m    352\u001b[0m         \u001b[0mnext\u001b[0m\u001b[0;34m(\u001b[0m\u001b[0mquery_results\u001b[0m\u001b[0;34m)\u001b[0m\u001b[0;34m\u001b[0m\u001b[0;34m\u001b[0m\u001b[0m\n",
      "\u001b[0;31mValueError\u001b[0m: No query results found in handle"
     ]
    }
   ],
   "source": [
    "from Bio import SearchIO\n",
    "\n",
    "blat_qresult = SearchIO.read(\"blat.psl\", \"blat-psl\")\n",
    "blat_hsp = blat_qresult[0][0] # first hit, first hsp\n",
    "print(blat_hsp)"
   ]
  },
  {
   "cell_type": "code",
   "execution_count": 9,
   "metadata": {},
   "outputs": [
    {
     "ename": "ValueError",
     "evalue": "No query results found in handle",
     "output_type": "error",
     "traceback": [
      "\u001b[0;31m---------------------------------------------------------------------------\u001b[0m",
      "\u001b[0;31mValueError\u001b[0m                                Traceback (most recent call last)",
      "\u001b[0;32m<ipython-input-9-40e8489e6415>\u001b[0m in \u001b[0;36m<module>\u001b[0;34m\u001b[0m\n\u001b[0;32m----> 1\u001b[0;31m \u001b[0mblat_qresult\u001b[0m \u001b[0;34m=\u001b[0m \u001b[0mSearchIO\u001b[0m\u001b[0;34m.\u001b[0m\u001b[0mread\u001b[0m\u001b[0;34m(\u001b[0m\u001b[0;34m\"blat.psl\"\u001b[0m\u001b[0;34m,\u001b[0m \u001b[0;34m\"blat-psl\"\u001b[0m\u001b[0;34m)\u001b[0m\u001b[0;34m\u001b[0m\u001b[0;34m\u001b[0m\u001b[0m\n\u001b[0m\u001b[1;32m      2\u001b[0m \u001b[0mblat_hsp\u001b[0m \u001b[0;34m=\u001b[0m \u001b[0mblat_qresult\u001b[0m\u001b[0;34m[\u001b[0m\u001b[0;36m0\u001b[0m\u001b[0;34m]\u001b[0m\u001b[0;34m[\u001b[0m\u001b[0;36m0\u001b[0m\u001b[0;34m]\u001b[0m \u001b[0;31m# first hit, second hsp\u001b[0m\u001b[0;34m\u001b[0m\u001b[0;34m\u001b[0m\u001b[0m\n\u001b[1;32m      3\u001b[0m \u001b[0;34m\u001b[0m\u001b[0m\n\u001b[1;32m      4\u001b[0m \u001b[0;32mfor\u001b[0m \u001b[0mfrag\u001b[0m \u001b[0;32min\u001b[0m \u001b[0mblat_hsp\u001b[0m\u001b[0;34m:\u001b[0m\u001b[0;34m\u001b[0m\u001b[0;34m\u001b[0m\u001b[0m\n\u001b[1;32m      5\u001b[0m     \u001b[0mprint\u001b[0m \u001b[0;34m(\u001b[0m\u001b[0mfrag\u001b[0m\u001b[0;34m)\u001b[0m\u001b[0;34m\u001b[0m\u001b[0;34m\u001b[0m\u001b[0m\n",
      "\u001b[0;32m~/opt/anaconda3/lib/python3.8/site-packages/Bio/SearchIO/__init__.py\u001b[0m in \u001b[0;36mread\u001b[0;34m(handle, format, **kwargs)\u001b[0m\n\u001b[1;32m    348\u001b[0m         \u001b[0mquery_result\u001b[0m \u001b[0;34m=\u001b[0m \u001b[0mnext\u001b[0m\u001b[0;34m(\u001b[0m\u001b[0mquery_results\u001b[0m\u001b[0;34m)\u001b[0m\u001b[0;34m\u001b[0m\u001b[0;34m\u001b[0m\u001b[0m\n\u001b[1;32m    349\u001b[0m     \u001b[0;32mexcept\u001b[0m \u001b[0mStopIteration\u001b[0m\u001b[0;34m:\u001b[0m\u001b[0;34m\u001b[0m\u001b[0;34m\u001b[0m\u001b[0m\n\u001b[0;32m--> 350\u001b[0;31m         \u001b[0;32mraise\u001b[0m \u001b[0mValueError\u001b[0m\u001b[0;34m(\u001b[0m\u001b[0;34m\"No query results found in handle\"\u001b[0m\u001b[0;34m)\u001b[0m \u001b[0;32mfrom\u001b[0m \u001b[0;32mNone\u001b[0m\u001b[0;34m\u001b[0m\u001b[0;34m\u001b[0m\u001b[0m\n\u001b[0m\u001b[1;32m    351\u001b[0m     \u001b[0;32mtry\u001b[0m\u001b[0;34m:\u001b[0m\u001b[0;34m\u001b[0m\u001b[0;34m\u001b[0m\u001b[0m\n\u001b[1;32m    352\u001b[0m         \u001b[0mnext\u001b[0m\u001b[0;34m(\u001b[0m\u001b[0mquery_results\u001b[0m\u001b[0;34m)\u001b[0m\u001b[0;34m\u001b[0m\u001b[0;34m\u001b[0m\u001b[0m\n",
      "\u001b[0;31mValueError\u001b[0m: No query results found in handle"
     ]
    }
   ],
   "source": [
    "blat_qresult = SearchIO.read(\"blat.psl\", \"blat-psl\")\n",
    "blat_hsp = blat_qresult[0][0] # first hit, second hsp\n",
    "\n",
    "for frag in blat_hsp:\n",
    "    print (frag)"
   ]
  },
  {
   "cell_type": "markdown",
   "metadata": {},
   "source": [
    "# Exercise 1:\n",
    "\n",
    "* Retrieve the first 5 entries having search term \"starch AND Malus Domestica [Organism]\" and store them in a fasta file. \n",
    "* Write a python function that aligns the sequences in the fasta file against the NCBI nr database limiting the hits to the Malus Domestica organism and prints to screen the following info for each hsp:\n",
    "\n",
    "    * The title;\n",
    "\n",
    "    * Score and e-value;\n",
    "\n",
    "    * The number of identities and positives and the alignment length."
   ]
  },
  {
   "cell_type": "markdown",
   "metadata": {},
   "source": [
    "# Exercise 2:\n",
    "\n",
    "* Write a python function that reads all the entries of a blast file in .xml format and outputs all the hits having at least one HSP with bitscore > B, alignment length > A and minimum percentage of identity > I, where B, A and I are input thresholds. \n",
    "\n",
    "* Test the function with an appropriate data."
   ]
  },
  {
   "cell_type": "code",
   "execution_count": null,
   "metadata": {},
   "outputs": [],
   "source": []
  }
 ],
 "metadata": {
  "kernelspec": {
   "display_name": "Python 3",
   "language": "python",
   "name": "python3"
  },
  "language_info": {
   "codemirror_mode": {
    "name": "ipython",
    "version": 3
   },
   "file_extension": ".py",
   "mimetype": "text/x-python",
   "name": "python",
   "nbconvert_exporter": "python",
   "pygments_lexer": "ipython3",
   "version": "3.8.5"
  }
 },
 "nbformat": 4,
 "nbformat_minor": 4
}
